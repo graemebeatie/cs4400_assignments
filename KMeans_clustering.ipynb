{
 "cells": [
  {
   "attachments": {},
   "cell_type": "markdown",
   "metadata": {},
   "source": [
    "# 12/9/2022\n",
    "\n",
    "## K-means clustering (also unsupervised)\n",
    "\n",
    "Identify homogeneous subgroups among observations\n",
    "\n",
    "In K-means clustering, we seek to partition observations into pre-specified number of clusters, k\n",
    "\n",
    "Algorithm first assigns each of the observations to one of the k-clusters \n",
    "\n",
    "Let i = 1,2,3,...,n be indices of observations (# of rows)\n",
    "\n",
    "Let c_1,c_2,...,c_k be the sets containing the indices of the observations in each cluster. \n",
    "\n",
    "Then $c_1 \\cup c_2\\cup ...\\cup c_k$ = {1,2,3,...,n}\n",
    "and $c_k\\cap c_l$ = zero for $k \\neq l$\n",
    "\n",
    "Good clustering = small variation within cluster\n",
    "\n",
    "L $w(c_k)$ be the variation of the cluster c_k. Clustering means solving the problem minimizing the sum of the variation within clusters which is the sum of all pairwise squared euclidean distances between observations in c_k"
   ]
  },
  {
   "attachments": {},
   "cell_type": "markdown",
   "metadata": {},
   "source": [
    "### Algorithm: \n",
    "1. Randomly assign each observations to one of k clusters.\n",
    "\n",
    "2. Computes the cluster centroid $\\bar{c}$ for each of k clusters\n",
    "\n",
    "* $\\bar{c} = \\frac{1}{|c_k|} [\\sum_{i\\in c_k} x_{i1},\\sum_{i\\in c_k} x_{i2},..., \\sum_{i\\in c_k} x_{ip}]$\n",
    "\n",
    "* Assign each observation to the cluster whose centroid is the closest.\n",
    "\n",
    "* Iterate until the cluster assignments stop changing "
   ]
  },
  {
   "attachments": {},
   "cell_type": "markdown",
   "metadata": {},
   "source": [
    "### Notes:\n",
    "Results obtained will depend on the initial cluster assignment so it is important to run the algorithm multiple times and we select the best solution, the smallest objective (variance)\n",
    "\n",
    "### How do we decide the clusters (k)\n",
    "In practice we try different choices, and we look for the one with the most useful or interpretable solution"
   ]
  }
 ],
 "metadata": {
  "kernelspec": {
   "display_name": "Python 3.10.8 ('ml')",
   "language": "python",
   "name": "python3"
  },
  "language_info": {
   "name": "python",
   "version": "3.10.8"
  },
  "orig_nbformat": 4,
  "vscode": {
   "interpreter": {
    "hash": "9641c215d0ece09f1808d72a0442e529464af3d1a4884b7daa5955e855e9508e"
   }
  }
 },
 "nbformat": 4,
 "nbformat_minor": 2
}
