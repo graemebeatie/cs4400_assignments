{
 "cells": [
  {
   "cell_type": "markdown",
   "metadata": {},
   "source": [
    "# 11/09\n",
    "\n",
    "## Tree-based models"
   ]
  },
  {
   "cell_type": "markdown",
   "metadata": {},
   "source": [
    "### Decision Trees\n",
    "\n",
    "Can be applied to both regression and classification problems\n",
    "\n",
    "#### Regression Trees\n",
    "\n",
    "EX: predicting baseball players salaries using regression trees.\n",
    "\n",
    "only considering two variables for this example\n",
    "\n",
    "Years - # years played\n",
    "Hit - # of hits made last year\n",
    "\n",
    "He drew out a general decision tree with years with the most information gain. Then if greater than a certain value you would then\n",
    "consider the # of hits as the next classifier.\n",
    "\n",
    "the leaves are the outcomes and the branches are the decisions\n",
    "\n",
    "This decision tree had three regions based on the splitting rules.\n",
    "\n",
    "$R_1$ = {x | years < 4.5}\n",
    "\n",
    "$R_2$ = {x | years >= 4.5, Hits < 117.5}\n",
    "\n",
    "$R_3$ = {x | years >= 4.5, Hits >= 117.5}\n",
    "\n",
    "these R's are called the terminal nodes (leaves)\n",
    "\n",
    "Points along the tree where the predictor space is split are called internodes (EX: years < 4.5)\n"
   ]
  },
  {
   "cell_type": "markdown",
   "metadata": {},
   "source": [
    "### How to build a regression tree\n",
    "\n",
    "Let $\\vec{x_1},\\vec{x_2},...,\\vec{x_p}$ be a predictor space\n",
    "\n",
    "General Steps\n",
    "\n",
    "1. Divide the $\\vec{x_1},\\vec{x_2},...,\\vec{x_p}$ into J distinct, non-overlapping, regions. $R_1,R_2,...,R_J$\n",
    "\n",
    "2. For every observation falls in $R_j$ make the prediction to be the mean of the response values in $R_j$\n",
    "\n",
    "\n",
    "Step 1 in detail:\n",
    "We divide the predicted space into high-dimensional rectangles (boxes)\n",
    "\n",
    "Makes boxes  $R_1,R_2,...,R_J$ that minimizes the RSS of $\\sum_{j=1}^J\\sum_{iER}(y_i - \\hat{y_Rj})^2$ \n",
    "where $\\hat{y_{Rj}}$ is the mean reasponse in the $R_j$ box."
   ]
  }
 ],
 "metadata": {
  "kernelspec": {
   "display_name": "Python 3.10.4 ('ml')",
   "language": "python",
   "name": "python3"
  },
  "language_info": {
   "name": "python",
   "version": "3.10.4"
  },
  "orig_nbformat": 4,
  "vscode": {
   "interpreter": {
    "hash": "9641c215d0ece09f1808d72a0442e529464af3d1a4884b7daa5955e855e9508e"
   }
  }
 },
 "nbformat": 4,
 "nbformat_minor": 2
}
