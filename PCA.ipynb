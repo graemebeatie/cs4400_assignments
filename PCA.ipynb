{
 "cells": [
  {
   "cell_type": "markdown",
   "metadata": {},
   "source": [
    "# 11/02\n",
    "\n",
    "## Principal Component Analysis\n",
    "Example of dimensionality reduction\n",
    "\n",
    "Math 4920 is an applied math course\n",
    "Hands on machine learning and data science class. Online. we'll see..."
   ]
  },
  {
   "cell_type": "markdown",
   "metadata": {},
   "source": [
    "Let $\\vec{x_1},\\vec{x_2},...,\\vec{x_p}$ that are predictors p (features) we want to select or choose new predictors to reduce the amount\n",
    "Define a new set of predictors $\\vec{Z_m}$\n",
    "\n",
    "\n",
    "$\\vec{Z_m}$ = $\\sum_{j=1}^p C_{jm}x_j$ m=1,2,...,M < p with m number of linear combinations cm is a vector\n",
    "\n",
    "Where $C_{jm}$ are some constant\n",
    "\n",
    "Define linear regression model with $Z_m$'s\n",
    "\n",
    "$y_i = \\theta_0 + \\sum_{m=1}^M Z_{im} + \\epsilon_i$; i = 1,...,n\n",
    "\n",
    "Note: this model has only M+1 coefficients (Dimension is reduced)\n",
    "\n",
    "How to obtain $Z_m$'s (equivalently $C_jm$'s)?"
   ]
  },
  {
   "cell_type": "markdown",
   "metadata": {},
   "source": [
    "PCA explains most of the variability of the data set $x_1,x_2,...,x_p$ (n observations)\n",
    "\n",
    "* $Z_1$: first principal component (captures the highest variability in the data set)\n",
    "\n",
    "such that $\\sum_{j=1}^p C_{ji}^2 = 1$ ; \n",
    "\n",
    "$\\bar{C_1} = [C_{11}, C_{21}... C_{p1}]^T$ is called the loading vector\n",
    "* these c's define the direction in feature space that varies the most\n",
    "\n",
    "* Assume $\\vec{x_1},\\vec{x_2},...,\\vec{x_p}$ are standardized features (mean of 0 and a variance of 1)\n",
    "* Hence $\\frac{1}{n}\\sum_{i=1}^n x_{ij} = 0$ (each column with mean 0) $j_1,j_2,...,j_p$\n",
    "\n",
    "* $Z_2$: second principal component (captures the second highest variability in the data set)\n",
    "\n",
    "\n",
    "$Z_1$ = $C_{11}\\vec{x_1} + C_{21}\\vec{x_2} + ... + C_{p1}\\vec{x_p}$\n",
    "\n",
    "x's are transposed vectors of x's\n",
    "\n",
    "\n",
    "$\\vec{Z_1} = [z_{11}, z_{21}, z_{31},... z_{n1}]^T$ this is called the scores of the PC1\n",
    "\n",
    "$Z_{i1}$ = $C_{11}\\vec{x_{i1}} + C_{21}\\vec{x_{i2}} + ... + C_{p1}\\vec{x_{ip}}$; i = 1,2,..,n\n",
    "we need the largest variace \n",
    "\n",
    "so we want to maximize $\\frac{1}{n}\\sum_{j=1}^n Z_{i1}^2$ with $\\sum_{j=1}^p C_{j1}^2 = 1$ with choosen c's when they are combined\n",
    "\n",
    "since the mean of the x's = 0. This implies the scores of the first component is also 0\n",
    "\n",
    "Perform eigenvalue decomposition at this point to solve systems of linear equations\n",
    "\n",
    "\n",
    "$\\vec{x_1} = [x_{11}, x_{21}, x_{31},... x_{n1}]^T$\n",
    "\n",
    "\n",
    "\n",
    "Once $z_1$ is determined $Z_2$ can be determined by \n",
    "\n",
    "$Z_{i2}$ = $C_{12}\\vec{x_{i1}} + C_{22}\\vec{x_{i2}} + ... + C_{p2}\\vec{x_{ip}}$; i = 1,2,..,n\n",
    "\n",
    "$Z_l$ and $Z_k$ are uncorrelated for l not equals k (orthogonal)\n",
    "\n"
   ]
  },
  {
   "cell_type": "markdown",
   "metadata": {},
   "source": [
    "Example : US Arrest dataset\n",
    "features: assault, murder, Rape, Urban Pop\n",
    "* urban pop has the percentage of population in each state living in urban areas\n",
    "n = 50, p = 4\n",
    "\n",
    "PCA is performed after standardizing\n",
    "\n",
    "feature PC1         PC2\n",
    "Murder  0.535 (c11) -0.418 (c12)\n",
    "Assault 0.583 (c21) -0.187 (c22)\n",
    "Rape    0.278 (c31)  0.872 (c32)\n",
    "Upop    0.543 (c41)  0.167 c(42)"
   ]
  },
  {
   "cell_type": "code",
   "execution_count": 1,
   "metadata": {},
   "outputs": [
    {
     "data": {
      "text/plain": [
       "Text(0, 0.5, 'PC2')"
      ]
     },
     "execution_count": 1,
     "metadata": {},
     "output_type": "execute_result"
    },
    {
     "data": {
      "image/png": "[encoded data removed]",
      "text/plain": [
       "<Figure size 640x480 with 1 Axes>"
      ]
     },
     "metadata": {},
     "output_type": "display_data"
    }
   ],
   "source": [
    "x = 0.535,0.583,0.278,0.543\n",
    "y = -0.418,-.187,.872,.167\n",
    "\n",
    "from matplotlib import pyplot as plt\n",
    "plt.scatter(x,y)\n",
    "plt.xlabel('PC1')\n",
    "plt.ylabel('PC2')"
   ]
  },
  {
   "cell_type": "markdown",
   "metadata": {},
   "source": [
    "## 11/09\n",
    "\n",
    "### PCA continued"
   ]
  },
  {
   "cell_type": "markdown",
   "metadata": {},
   "source": [
    "### The proportion of variance explained (PVE)\n",
    "\n",
    "How much in the variance in the data is not contained in the first few principal components?\n",
    "\n",
    "Total variance present in the dataset:\n",
    "\n",
    "$\\sum_{j=1}^p var(\\vec{x_j}) = \\sum_{j=1}^p \\frac{1}{n}\\sum_{j=1}^n x_{ij}^2$\n",
    "\n",
    "variance explained by the mth principal component; m <= p\n",
    "\n",
    "$\\frac{1}{n}\\sum_{j=1}^n Z_{im}^2$ = $\\frac{1}{n}\\sum_{i=1}^n(\\sum_{j=1}^p C_{jm}x_{ij})^2$\n",
    "\n",
    "PVE of the nth component = $\\frac{\\frac{1}{n}\\sum_{i=1}^n(\\sum_{j=1}^p C_{jm}x_{ij})^2}{\\sum_{j=1}^p \\frac{1}{n}\\sum_{j=1}^n x_{ij}^2}$ = variance\n",
    "\n",
    "We hope that we have a large amount of the variability contained with the first 3 ish principal components"
   ]
  },
  {
   "cell_type": "markdown",
   "metadata": {},
   "source": [
    "### Principal component regression\n",
    "\n",
    "Construct first m principal components and use them as the predictors in a linear regression\n",
    "\n",
    "Assumption: The directions in which $\\vec{x_1},\\vec{x_2},...,\\vec{x_p}$\n",
    "show that the most variation are the directions that are associated with y even though all our calculations have been with x"
   ]
  }
 ],
 "metadata": {
  "kernelspec": {
   "display_name": "Python 3.10.4 ('ml')",
   "language": "python",
   "name": "python3"
  },
  "language_info": {
   "codemirror_mode": {
    "name": "ipython",
    "version": 3
   },
   "file_extension": ".py",
   "mimetype": "text/x-python",
   "name": "python",
   "nbconvert_exporter": "python",
   "pygments_lexer": "ipython3",
   "version": "3.10.4"
  },
  "orig_nbformat": 4,
  "vscode": {
   "interpreter": {
    "hash": "9641c215d0ece09f1808d72a0442e529464af3d1a4884b7daa5955e855e9508e"
   }
  }
 },
 "nbformat": 4,
 "nbformat_minor": 2
}
